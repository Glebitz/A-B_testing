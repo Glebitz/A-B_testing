{
 "cells": [
  {
   "cell_type": "markdown",
   "source": [
    "# Проект: вариант 2\n",
    "## Задание 1. A/B–тестирование"
   ],
   "metadata": {
    "collapsed": false,
    "pycharm": {
     "name": "#%% md\n"
    }
   }
  },
  {
   "cell_type": "markdown",
   "source": [
    "1.1 Условие\n",
    "\n",
    "Одной из основных задач аналитика в нашей команде является корректное проведение экспериментов. Для этого мы применяем метод A/B–тестирования. В ходе тестирования одной гипотезы целевой группе была предложена новая механика оплаты услуг на сайте, у контрольной группы оставалась базовая механика. В качестве задания Вам необходимо проанализировать итоги эксперимента и сделать вывод, стоит ли запускать новую механику оплаты на всех пользователей.\n",
    "\n",
    "\n",
    "1.2 Входные данные\n",
    "\n",
    "В качестве входных данных Вы имеете 4 csv-файла:\n",
    "\n",
    "* groups.csv - файл с информацией о принадлежности пользователя к контрольной или экспериментальной группе (А – контроль, B – целевая группа)\n",
    "* groups_add.csv - дополнительный файл с пользователями, который вам прислали спустя 2 дня после передачи данных\n",
    "* active_studs.csv - файл с информацией о пользователях, которые зашли на платформу в дни проведения эксперимента.\n",
    "* checks.csv - файл с информацией об оплатах пользователей в дни проведения эксперимента.\n",
    "\n",
    "\n",
    "1.3 Вопросы\n",
    "\n",
    "Предлагаем Вам ответить на следующие вопросы:\n",
    "\n",
    "1. На какие метрики Вы смотрите в ходе анализа и почему?\n",
    "2. Имеются ли различия в показателях и с чем они могут быть связаны?\n",
    "3. Являются ли эти различия статистически значимыми?\n",
    "4. Стоит ли запускать новую механику на всех пользователей?"
   ],
   "metadata": {
    "collapsed": false,
    "pycharm": {
     "name": "#%% md\n"
    }
   }
  },
  {
   "cell_type": "code",
   "execution_count": 1,
   "outputs": [],
   "source": [
    "# Импортируем необходимые библиотеки.\n",
    "\n",
    "import pandas as pd\n",
    "import matplotlib.pyplot as plt\n",
    "import seaborn as sns\n",
    "import numpy as np\n",
    "from scipy import stats"
   ],
   "metadata": {
    "collapsed": false,
    "pycharm": {
     "name": "#%%\n"
    }
   }
  },
  {
   "cell_type": "code",
   "execution_count": 2,
   "outputs": [],
   "source": [
    "# Сразу объединим две таблицы: изначальную и ту, которую прислали через два дня.\n",
    "\n",
    "groups = pd.concat([pd.read_csv('Проект_2_groups.csv', sep=';'),\n",
    "                    pd.read_csv('Проект_2_group_add.csv')])"
   ],
   "metadata": {
    "collapsed": false,
    "pycharm": {
     "name": "#%%\n"
    }
   }
  },
  {
   "cell_type": "code",
   "execution_count": 3,
   "outputs": [
    {
     "data": {
      "text/plain": "     id grp\n0  1489   B\n1  1627   A\n2  1768   B\n3  1783   B\n4  1794   A",
      "text/html": "<div>\n<style scoped>\n    .dataframe tbody tr th:only-of-type {\n        vertical-align: middle;\n    }\n\n    .dataframe tbody tr th {\n        vertical-align: top;\n    }\n\n    .dataframe thead th {\n        text-align: right;\n    }\n</style>\n<table border=\"1\" class=\"dataframe\">\n  <thead>\n    <tr style=\"text-align: right;\">\n      <th></th>\n      <th>id</th>\n      <th>grp</th>\n    </tr>\n  </thead>\n  <tbody>\n    <tr>\n      <th>0</th>\n      <td>1489</td>\n      <td>B</td>\n    </tr>\n    <tr>\n      <th>1</th>\n      <td>1627</td>\n      <td>A</td>\n    </tr>\n    <tr>\n      <th>2</th>\n      <td>1768</td>\n      <td>B</td>\n    </tr>\n    <tr>\n      <th>3</th>\n      <td>1783</td>\n      <td>B</td>\n    </tr>\n    <tr>\n      <th>4</th>\n      <td>1794</td>\n      <td>A</td>\n    </tr>\n  </tbody>\n</table>\n</div>"
     },
     "execution_count": 3,
     "metadata": {},
     "output_type": "execute_result"
    }
   ],
   "source": [
    "groups.head()"
   ],
   "metadata": {
    "collapsed": false,
    "pycharm": {
     "name": "#%%\n"
    }
   }
  },
  {
   "cell_type": "code",
   "execution_count": 4,
   "outputs": [
    {
     "data": {
      "text/plain": "(74576, 2)"
     },
     "execution_count": 4,
     "metadata": {},
     "output_type": "execute_result"
    }
   ],
   "source": [
    "# Размерность таблицы.\n",
    "\n",
    "groups.shape"
   ],
   "metadata": {
    "collapsed": false,
    "pycharm": {
     "name": "#%%\n"
    }
   }
  },
  {
   "cell_type": "code",
   "execution_count": 5,
   "outputs": [
    {
     "data": {
      "text/plain": "id      int64\ngrp    object\ndtype: object"
     },
     "execution_count": 5,
     "metadata": {},
     "output_type": "execute_result"
    }
   ],
   "source": [
    "# Типы данных в порядке.\n",
    "\n",
    "groups.dtypes"
   ],
   "metadata": {
    "collapsed": false,
    "pycharm": {
     "name": "#%%\n"
    }
   }
  },
  {
   "cell_type": "code",
   "execution_count": 6,
   "outputs": [
    {
     "data": {
      "text/plain": "id     0\ngrp    0\ndtype: int64"
     },
     "execution_count": 6,
     "metadata": {},
     "output_type": "execute_result"
    }
   ],
   "source": [
    "# Пропущенных значений нет.\n",
    "\n",
    "groups.isna().sum()"
   ],
   "metadata": {
    "collapsed": false,
    "pycharm": {
     "name": "#%%\n"
    }
   }
  },
  {
   "cell_type": "code",
   "execution_count": 7,
   "outputs": [
    {
     "data": {
      "text/plain": "True"
     },
     "execution_count": 7,
     "metadata": {},
     "output_type": "execute_result"
    }
   ],
   "source": [
    "# Дубликаты ID не встречаются.\n",
    "\n",
    "groups.shape[0] == groups.id.nunique()"
   ],
   "metadata": {
    "collapsed": false,
    "pycharm": {
     "name": "#%%\n"
    }
   }
  },
  {
   "cell_type": "code",
   "execution_count": 8,
   "outputs": [
    {
     "data": {
      "text/plain": "B    59883\nA    14693\nName: grp, dtype: int64"
     },
     "execution_count": 8,
     "metadata": {},
     "output_type": "execute_result"
    }
   ],
   "source": [
    "# Сколько человек в каждой группе?\n",
    "\n",
    "groups.grp.value_counts()"
   ],
   "metadata": {
    "collapsed": false,
    "pycharm": {
     "name": "#%%\n"
    }
   }
  },
  {
   "cell_type": "code",
   "execution_count": 9,
   "outputs": [],
   "source": [
    "# Таблица с пользователями, которые зашли на платформу в дни проведения эксперимента.\n",
    "\n",
    "active_users = pd.read_csv('Проект_2_active_studs.csv')"
   ],
   "metadata": {
    "collapsed": false,
    "pycharm": {
     "name": "#%%\n"
    }
   }
  },
  {
   "cell_type": "code",
   "execution_count": 10,
   "outputs": [
    {
     "data": {
      "text/plain": "   student_id\n0      581585\n1     5723133\n2     3276743\n3     4238589\n4     4475369",
      "text/html": "<div>\n<style scoped>\n    .dataframe tbody tr th:only-of-type {\n        vertical-align: middle;\n    }\n\n    .dataframe tbody tr th {\n        vertical-align: top;\n    }\n\n    .dataframe thead th {\n        text-align: right;\n    }\n</style>\n<table border=\"1\" class=\"dataframe\">\n  <thead>\n    <tr style=\"text-align: right;\">\n      <th></th>\n      <th>student_id</th>\n    </tr>\n  </thead>\n  <tbody>\n    <tr>\n      <th>0</th>\n      <td>581585</td>\n    </tr>\n    <tr>\n      <th>1</th>\n      <td>5723133</td>\n    </tr>\n    <tr>\n      <th>2</th>\n      <td>3276743</td>\n    </tr>\n    <tr>\n      <th>3</th>\n      <td>4238589</td>\n    </tr>\n    <tr>\n      <th>4</th>\n      <td>4475369</td>\n    </tr>\n  </tbody>\n</table>\n</div>"
     },
     "execution_count": 10,
     "metadata": {},
     "output_type": "execute_result"
    }
   ],
   "source": [
    "active_users.head()"
   ],
   "metadata": {
    "collapsed": false,
    "pycharm": {
     "name": "#%%\n"
    }
   }
  },
  {
   "cell_type": "code",
   "execution_count": 11,
   "outputs": [
    {
     "data": {
      "text/plain": "student_id    int64\ndtype: object"
     },
     "execution_count": 11,
     "metadata": {},
     "output_type": "execute_result"
    }
   ],
   "source": [
    "active_users.dtypes"
   ],
   "metadata": {
    "collapsed": false,
    "pycharm": {
     "name": "#%%\n"
    }
   }
  },
  {
   "cell_type": "code",
   "execution_count": 12,
   "outputs": [],
   "source": [
    "active_users = active_users.rename(columns={'student_id': 'id'})"
   ],
   "metadata": {
    "collapsed": false,
    "pycharm": {
     "name": "#%%\n"
    }
   }
  },
  {
   "cell_type": "code",
   "execution_count": 13,
   "outputs": [],
   "source": [
    "# Посмотрим, к какой группе принадлежат пользователи, зашедшие на платформу в дни проведения эксперимента.\n",
    "\n",
    "active_users_groups = active_users.merge(groups, how='left', on='id')"
   ],
   "metadata": {
    "collapsed": false,
    "pycharm": {
     "name": "#%%\n"
    }
   }
  },
  {
   "cell_type": "code",
   "execution_count": 14,
   "outputs": [
    {
     "data": {
      "text/plain": "        id grp\n0   581585   A\n1  5723133   A\n2  3276743   B\n3  4238589   A\n4  4475369   B",
      "text/html": "<div>\n<style scoped>\n    .dataframe tbody tr th:only-of-type {\n        vertical-align: middle;\n    }\n\n    .dataframe tbody tr th {\n        vertical-align: top;\n    }\n\n    .dataframe thead th {\n        text-align: right;\n    }\n</style>\n<table border=\"1\" class=\"dataframe\">\n  <thead>\n    <tr style=\"text-align: right;\">\n      <th></th>\n      <th>id</th>\n      <th>grp</th>\n    </tr>\n  </thead>\n  <tbody>\n    <tr>\n      <th>0</th>\n      <td>581585</td>\n      <td>A</td>\n    </tr>\n    <tr>\n      <th>1</th>\n      <td>5723133</td>\n      <td>A</td>\n    </tr>\n    <tr>\n      <th>2</th>\n      <td>3276743</td>\n      <td>B</td>\n    </tr>\n    <tr>\n      <th>3</th>\n      <td>4238589</td>\n      <td>A</td>\n    </tr>\n    <tr>\n      <th>4</th>\n      <td>4475369</td>\n      <td>B</td>\n    </tr>\n  </tbody>\n</table>\n</div>"
     },
     "execution_count": 14,
     "metadata": {},
     "output_type": "execute_result"
    }
   ],
   "source": [
    "active_users_groups.head()"
   ],
   "metadata": {
    "collapsed": false,
    "pycharm": {
     "name": "#%%\n"
    }
   }
  },
  {
   "cell_type": "code",
   "execution_count": 15,
   "outputs": [],
   "source": [
    "# Информация о платежах пользователей в дни проведения эксперимента.\n",
    "\n",
    "checks = pd.read_csv('Проект_2_checks.csv', sep=';')"
   ],
   "metadata": {
    "collapsed": false,
    "pycharm": {
     "name": "#%%\n"
    }
   }
  },
  {
   "cell_type": "code",
   "execution_count": 16,
   "outputs": [],
   "source": [
    "checks = checks.rename(columns={'student_id': 'id'})"
   ],
   "metadata": {
    "collapsed": false,
    "pycharm": {
     "name": "#%%\n"
    }
   }
  },
  {
   "cell_type": "code",
   "execution_count": 17,
   "outputs": [
    {
     "data": {
      "text/plain": "True"
     },
     "execution_count": 17,
     "metadata": {},
     "output_type": "execute_result"
    }
   ],
   "source": [
    "# Можно заметить, что в дни эксперимента нет пользователей, которые совершили покупку более одного раза.\n",
    "\n",
    "checks.shape[0] == checks.id.nunique()"
   ],
   "metadata": {
    "collapsed": false,
    "pycharm": {
     "name": "#%%\n"
    }
   }
  },
  {
   "cell_type": "code",
   "execution_count": 18,
   "outputs": [],
   "source": [
    "# Объединим информацию о платежах с группой, к которой принадлежат пользователи.\n",
    "\n",
    "active_checks = active_users_groups.merge(checks, how='left', on='id')"
   ],
   "metadata": {
    "collapsed": false,
    "pycharm": {
     "name": "#%%\n"
    }
   }
  },
  {
   "cell_type": "code",
   "execution_count": 19,
   "outputs": [
    {
     "data": {
      "text/plain": "        id grp  rev\n0   581585   A  NaN\n1  5723133   A  NaN\n2  3276743   B  NaN\n3  4238589   A  NaN\n4  4475369   B  NaN",
      "text/html": "<div>\n<style scoped>\n    .dataframe tbody tr th:only-of-type {\n        vertical-align: middle;\n    }\n\n    .dataframe tbody tr th {\n        vertical-align: top;\n    }\n\n    .dataframe thead th {\n        text-align: right;\n    }\n</style>\n<table border=\"1\" class=\"dataframe\">\n  <thead>\n    <tr style=\"text-align: right;\">\n      <th></th>\n      <th>id</th>\n      <th>grp</th>\n      <th>rev</th>\n    </tr>\n  </thead>\n  <tbody>\n    <tr>\n      <th>0</th>\n      <td>581585</td>\n      <td>A</td>\n      <td>NaN</td>\n    </tr>\n    <tr>\n      <th>1</th>\n      <td>5723133</td>\n      <td>A</td>\n      <td>NaN</td>\n    </tr>\n    <tr>\n      <th>2</th>\n      <td>3276743</td>\n      <td>B</td>\n      <td>NaN</td>\n    </tr>\n    <tr>\n      <th>3</th>\n      <td>4238589</td>\n      <td>A</td>\n      <td>NaN</td>\n    </tr>\n    <tr>\n      <th>4</th>\n      <td>4475369</td>\n      <td>B</td>\n      <td>NaN</td>\n    </tr>\n  </tbody>\n</table>\n</div>"
     },
     "execution_count": 19,
     "metadata": {},
     "output_type": "execute_result"
    }
   ],
   "source": [
    "active_checks.head()"
   ],
   "metadata": {
    "collapsed": false,
    "pycharm": {
     "name": "#%%\n"
    }
   }
  },
  {
   "cell_type": "code",
   "execution_count": 19,
   "outputs": [],
   "source": [],
   "metadata": {
    "collapsed": false,
    "pycharm": {
     "name": "#%%\n"
    }
   }
  },
  {
   "cell_type": "code",
   "execution_count": 19,
   "outputs": [],
   "source": [],
   "metadata": {
    "collapsed": false,
    "pycharm": {
     "name": "#%%\n"
    }
   }
  },
  {
   "cell_type": "code",
   "execution_count": 19,
   "outputs": [],
   "source": [],
   "metadata": {
    "collapsed": false,
    "pycharm": {
     "name": "#%%\n"
    }
   }
  },
  {
   "cell_type": "code",
   "execution_count": 20,
   "outputs": [],
   "source": [
    "# Для начала посчитаем конверсию в покупку у обеих групп.\n",
    "# Мне кажется, что это важный показатель, т.к. он показывает, \"проседает\" ли какая-то группа в покупках или нет.\n",
    "# Если, к примеру, наш ARPPU вырастет, а конверсия сильно просядет, то грош цена нашему ARRPU.\n",
    "# Потому что хоть и средний чек на платящего пользователя и вырастет, но платящих людей в принципе станет меньше.\n",
    "# Поэтому важно наряду с ARPPU следить и за конверсией в покупку, чтобы держать на контроле эту ситуацию.\n",
    "\n",
    "conversion_df = active_checks.copy()\n",
    "conversion_df.rev = conversion_df.rev.fillna(0)\n",
    "conversion_df.loc[conversion_df.rev > 0, 'rev'] = 1\n",
    "\n",
    "# 1 - сделал покупку, 0 - нет."
   ],
   "metadata": {
    "collapsed": false,
    "pycharm": {
     "name": "#%%\n"
    }
   }
  },
  {
   "cell_type": "code",
   "execution_count": 21,
   "outputs": [
    {
     "data": {
      "text/plain": "        id grp  rev\n0   581585   A  0.0\n1  5723133   A  0.0\n2  3276743   B  0.0\n3  4238589   A  0.0\n4  4475369   B  0.0",
      "text/html": "<div>\n<style scoped>\n    .dataframe tbody tr th:only-of-type {\n        vertical-align: middle;\n    }\n\n    .dataframe tbody tr th {\n        vertical-align: top;\n    }\n\n    .dataframe thead th {\n        text-align: right;\n    }\n</style>\n<table border=\"1\" class=\"dataframe\">\n  <thead>\n    <tr style=\"text-align: right;\">\n      <th></th>\n      <th>id</th>\n      <th>grp</th>\n      <th>rev</th>\n    </tr>\n  </thead>\n  <tbody>\n    <tr>\n      <th>0</th>\n      <td>581585</td>\n      <td>A</td>\n      <td>0.0</td>\n    </tr>\n    <tr>\n      <th>1</th>\n      <td>5723133</td>\n      <td>A</td>\n      <td>0.0</td>\n    </tr>\n    <tr>\n      <th>2</th>\n      <td>3276743</td>\n      <td>B</td>\n      <td>0.0</td>\n    </tr>\n    <tr>\n      <th>3</th>\n      <td>4238589</td>\n      <td>A</td>\n      <td>0.0</td>\n    </tr>\n    <tr>\n      <th>4</th>\n      <td>4475369</td>\n      <td>B</td>\n      <td>0.0</td>\n    </tr>\n  </tbody>\n</table>\n</div>"
     },
     "execution_count": 21,
     "metadata": {},
     "output_type": "execute_result"
    }
   ],
   "source": [
    "conversion_df.head()"
   ],
   "metadata": {
    "collapsed": false,
    "pycharm": {
     "name": "#%%\n"
    }
   }
  },
  {
   "cell_type": "code",
   "execution_count": 22,
   "outputs": [
    {
     "data": {
      "text/plain": "         CR_%\ngrp          \nA    5.071521\nB    4.615611",
      "text/html": "<div>\n<style scoped>\n    .dataframe tbody tr th:only-of-type {\n        vertical-align: middle;\n    }\n\n    .dataframe tbody tr th {\n        vertical-align: top;\n    }\n\n    .dataframe thead th {\n        text-align: right;\n    }\n</style>\n<table border=\"1\" class=\"dataframe\">\n  <thead>\n    <tr style=\"text-align: right;\">\n      <th></th>\n      <th>CR_%</th>\n    </tr>\n    <tr>\n      <th>grp</th>\n      <th></th>\n    </tr>\n  </thead>\n  <tbody>\n    <tr>\n      <th>A</th>\n      <td>5.071521</td>\n    </tr>\n    <tr>\n      <th>B</th>\n      <td>4.615611</td>\n    </tr>\n  </tbody>\n</table>\n</div>"
     },
     "execution_count": 22,
     "metadata": {},
     "output_type": "execute_result"
    }
   ],
   "source": [
    "# Конверсия покупку у группы B немного ниже, чем у группы А. Критично ли это - решает компания.\n",
    "\n",
    "conversion_df \\\n",
    "        .groupby('grp') \\\n",
    "        .agg({'rev': 'mean'}) \\\n",
    "        .mul(100) \\\n",
    "        .rename(columns={'rev': 'CR_%'})\n",
    "\n",
    "# Но стоит посмотреть, статистически значимо ли различается конверсия в двух группах. Используем для этого хи-квадрат.\n",
    "# Нулевая гипотеза Н0: наши конверсии в двух группах статистически значимо не различаются.\n",
    "# Альтернативная гиоптеза Н1: конверсии в двух группах статистически значимо различаются.\n",
    "# Возьмём за порог значимости значение 0.05. Если хи-квадрат выдаст меньше, мы можем принять Н1, иначе - оставляем Н0."
   ],
   "metadata": {
    "collapsed": false,
    "pycharm": {
     "name": "#%%\n"
    }
   }
  },
  {
   "cell_type": "code",
   "execution_count": 23,
   "outputs": [],
   "source": [
    "# Строим 2х2 таблицу сопряжённости для хи-квадрата.\n",
    "\n",
    "a = conversion_df.query(\"grp == 'A'\")  # группа А.\n",
    "b = conversion_df.query(\"grp == 'B'\")  # группа B."
   ],
   "metadata": {
    "collapsed": false,
    "pycharm": {
     "name": "#%%\n"
    }
   }
  },
  {
   "cell_type": "code",
   "execution_count": 24,
   "outputs": [],
   "source": [
    "a_converted = a.rev.sum()  # кол-во сконвертировавшихся из группы А.\n",
    "a_not_converted = a.rev.size - a_converted  # кол-во несконвертировавшихся из группы А.\n",
    "\n",
    "b_converted = b.rev.sum()  # кол-во сконвертировавшихся из группы В.\n",
    "b_not_converted = b.rev.size - b_converted  # кол-во несконвертировавшихся из группы В."
   ],
   "metadata": {
    "collapsed": false,
    "pycharm": {
     "name": "#%%\n"
    }
   }
  },
  {
   "cell_type": "code",
   "execution_count": 25,
   "outputs": [
    {
     "data": {
      "text/plain": "array([[  78., 1460.],\n       [ 314., 6489.]])"
     },
     "execution_count": 25,
     "metadata": {},
     "output_type": "execute_result"
    }
   ],
   "source": [
    "# Строим массив numpy из наших данных для использования в chi2_contingency.\n",
    "\n",
    "T = np.array([[a_converted, a_not_converted], [b_converted, b_not_converted]])\n",
    "T"
   ],
   "metadata": {
    "collapsed": false,
    "pycharm": {
     "name": "#%%\n"
    }
   }
  },
  {
   "cell_type": "code",
   "execution_count": 26,
   "outputs": [
    {
     "data": {
      "text/plain": "0.44547028437158964"
     },
     "execution_count": 26,
     "metadata": {},
     "output_type": "execute_result"
    }
   ],
   "source": [
    "# P - уровень значимости равен 0,445, что намного выше 0,05. Это означает, что мы оставляем нулевую гипотезу.\n",
    "# Делаем вывод: наши конверсии статистически значимо не различаются.\n",
    "\n",
    "stats.chi2_contingency(T, correction=False)[1]"
   ],
   "metadata": {
    "collapsed": false,
    "pycharm": {
     "name": "#%%\n"
    }
   }
  },
  {
   "cell_type": "code",
   "execution_count": 26,
   "outputs": [],
   "source": [],
   "metadata": {
    "collapsed": false,
    "pycharm": {
     "name": "#%%\n"
    }
   }
  },
  {
   "cell_type": "code",
   "execution_count": 27,
   "outputs": [
    {
     "data": {
      "text/plain": "           ARPPU\ngrp             \nA     933.589744\nB    1257.878992",
      "text/html": "<div>\n<style scoped>\n    .dataframe tbody tr th:only-of-type {\n        vertical-align: middle;\n    }\n\n    .dataframe tbody tr th {\n        vertical-align: top;\n    }\n\n    .dataframe thead th {\n        text-align: right;\n    }\n</style>\n<table border=\"1\" class=\"dataframe\">\n  <thead>\n    <tr style=\"text-align: right;\">\n      <th></th>\n      <th>ARPPU</th>\n    </tr>\n    <tr>\n      <th>grp</th>\n      <th></th>\n    </tr>\n  </thead>\n  <tbody>\n    <tr>\n      <th>A</th>\n      <td>933.589744</td>\n    </tr>\n    <tr>\n      <th>B</th>\n      <td>1257.878992</td>\n    </tr>\n  </tbody>\n</table>\n</div>"
     },
     "execution_count": 27,
     "metadata": {},
     "output_type": "execute_result"
    }
   ],
   "source": [
    "# Взглянем на средний чек платящего пользователя (ARPPU).\n",
    "# Предлагаю использовать именно ARPPU, а не ARPU, т.к. конверсия в двух группах практически не различается.\n",
    "# Кроме того, ARPPU сразу позволяет сконцентрироваться на наших клиентах.\n",
    "# Т.е. сразу \"точечно\" следить за их метриками.\n",
    "\n",
    "active_checks \\\n",
    "        .groupby('grp') \\\n",
    "        .agg({'rev': 'mean'}) \\\n",
    "        .rename(columns={'rev': 'ARPPU'})\n",
    "\n",
    "# Видим разницу в среднем чеке. Статистически значимо ли различие?"
   ],
   "metadata": {
    "collapsed": false,
    "pycharm": {
     "name": "#%%\n"
    }
   }
  },
  {
   "cell_type": "code",
   "execution_count": 28,
   "outputs": [],
   "source": [
    "# Выделим пользователей из групп А и B.\n",
    "\n",
    "users_A = active_checks.query(\"grp == 'A' and rev > 0\")\n",
    "users_B = active_checks.query(\"grp == 'B' and rev > 0\")"
   ],
   "metadata": {
    "collapsed": false,
    "pycharm": {
     "name": "#%%\n"
    }
   }
  },
  {
   "cell_type": "code",
   "execution_count": 29,
   "outputs": [
    {
     "data": {
      "text/plain": "<seaborn.axisgrid.FacetGrid at 0x19479644af0>"
     },
     "execution_count": 29,
     "metadata": {},
     "output_type": "execute_result"
    },
    {
     "data": {
      "text/plain": "<Figure size 360x360 with 1 Axes>",
      "image/png": "[encoded data removed]"
     },
     "metadata": {},
     "output_type": "display_data"
    },
    {
     "data": {
      "text/plain": "<Figure size 360x360 with 1 Axes>",
      "image/png": "[encoded data removed]"
     },
     "metadata": {},
     "output_type": "display_data"
    }
   ],
   "source": [
    "# Распределение платежей пользователей, которые зашли на платформу в дни проведения эксперимента.\n",
    "\n",
    "sns.displot(users_A.rev, kde=False)\n",
    "sns.displot(users_B.rev, kde=False)\n",
    "\n",
    "\n",
    "# Невооружённым глазом видно, что большинство пользователей из целевой группы сделали покупку в районе 2000, скажем, рублей.\n",
    "# В то же время пользователи из группы А не так сильно раскошелились. Большинство тратило в районе 500 рублей.\n",
    "# Однако это всё лишь визуально показывает некоторое различие. Что, если копнуть глубже?\n",
    "# В данном случае я считаю нецелесообразным использовать bootstrap, поскольку уже на этапе визуализации видно, какой сегмент пользователей \"подрос\" в платежах, т.е. где ИМЕННО разница.\n",
    "# Поэтому я предлагаю использовать классические критерии. Попробуем t-тест."
   ],
   "metadata": {
    "collapsed": false,
    "pycharm": {
     "name": "#%%\n"
    }
   }
  },
  {
   "cell_type": "code",
   "execution_count": 30,
   "outputs": [
    {
     "data": {
      "text/plain": "LeveneResult(statistic=3.0756816999816055, pvalue=0.08025675761347022)"
     },
     "execution_count": 30,
     "metadata": {},
     "output_type": "execute_result"
    }
   ],
   "source": [
    "# Для начала проверим, равны ли дисперсии в наших группах. Используем для этого тест Левена.\n",
    "# За порог значимости принимаю значение 0.05.\n",
    "# Нулевая гипотеза Н0: дисперсии в группах статистически не различаются.\n",
    "# Альтернативная гипотеза Н1: дисперсии в наших группах статистически различаются.\n",
    "# Требование гомогенности дисперсий выполняется, т.к. p - уровень значимости > 0.05.\n",
    "# Оставляем Н0 о равенстве дисперсий.\n",
    "\n",
    "stats.levene(users_A.rev, users_B.rev)"
   ],
   "metadata": {
    "collapsed": false,
    "pycharm": {
     "name": "#%%\n"
    }
   }
  },
  {
   "cell_type": "code",
   "execution_count": 31,
   "outputs": [
    {
     "data": {
      "text/plain": "<seaborn.axisgrid.FacetGrid at 0x194797af220>"
     },
     "execution_count": 31,
     "metadata": {},
     "output_type": "execute_result"
    },
    {
     "data": {
      "text/plain": "<Figure size 360x360 with 1 Axes>",
      "image/png": "[encoded data removed]"
     },
     "metadata": {},
     "output_type": "display_data"
    },
    {
     "data": {
      "text/plain": "<Figure size 360x360 with 1 Axes>",
      "image/png": "[encoded data removed]"
     },
     "metadata": {},
     "output_type": "display_data"
    }
   ],
   "source": [
    "# Очевидно, что наши распределения далеки от нормальных. Логарифмирование не помогло привести их к нормальному.\n",
    "# Конечно, t-тест мы могли бы использовать и на таких распределениях, но я бы не рисковал, а лишь бы ради любопытства взял на заметку его результаты.\n",
    "\n",
    "sns.displot(np.log(users_A.rev), kde=False)\n",
    "sns.displot(np.log(users_B.rev), kde=False)"
   ],
   "metadata": {
    "collapsed": false,
    "pycharm": {
     "name": "#%%\n"
    }
   }
  },
  {
   "cell_type": "code",
   "execution_count": 32,
   "outputs": [
    {
     "data": {
      "text/plain": "Ttest_indResult(statistic=-3.1337795050930985, pvalue=0.0018562025265765867)"
     },
     "execution_count": 32,
     "metadata": {},
     "output_type": "execute_result"
    }
   ],
   "source": [
    "# Нулевая гипотеза Н0: средние чеки на платящего пользователя в группах статистически значимо НЕ отличаются.\n",
    "# Альтернативная гипотеза Н1: средние чеки на платящего пользователя в группах статистически значимо отличаются.\n",
    "# Наши распределения статистически значимо различаются, т.к. p - ур. значимости меньше 0.05.\n",
    "# Принимаем альтернативную гипотезу.\n",
    "\n",
    "stats.ttest_ind(users_A.rev, users_B.rev)"
   ],
   "metadata": {
    "collapsed": false,
    "pycharm": {
     "name": "#%%\n"
    }
   }
  },
  {
   "cell_type": "code",
   "execution_count": 33,
   "outputs": [
    {
     "data": {
      "text/plain": "MannwhitneyuResult(statistic=9001.0, pvalue=0.0002511393831406922)"
     },
     "execution_count": 33,
     "metadata": {},
     "output_type": "execute_result"
    }
   ],
   "source": [
    "# Посмотрим, что на это скажет непараметрический критерий Манна-Уитни.\n",
    "# Нулевая гипотеза Н0: средние чеки на платящего пользователя в группах статистически значимо НЕ отличаются.\n",
    "# Альтернативная гипотеза Н1: средние чеки на платящего пользователя в группах статистически значимо отличаются.\n",
    "# Наши распределения статистически значимо различаются, т.к. p - ур. значимости меньше 0.05.\n",
    "# Принимаем альтернативную гипотезу.\n",
    "\n",
    "stats.mannwhitneyu(users_A.rev, users_B.rev)\n",
    "\n",
    "# Оба критерия нам говорят о статистически значимых различиях в наших распределениях."
   ],
   "metadata": {
    "collapsed": false,
    "pycharm": {
     "name": "#%%\n"
    }
   }
  },
  {
   "cell_type": "markdown",
   "source": [
    "Основываясь на результатах стат. тестов, я бы рекомендовал внедрить новую механику оплаты услуг в массы. Единственный момент, на который я бы обратил внимание компании, - это конверсия  (5,07% у контрольной группы против 4,62% у целевой). Однако хи-квадрат показывает, что эти две конверсии статистически значимо не различаются.\n",
    "\n",
    "Предполагаю, что новая механика оплаты услуг на сайте была призвана увеличить конверсию в покупку, а не средний чек. Вероятно, эксперимент можно считать внезапно удачным. То есть получен положительный результат там, где его, вероятно, не ожидали.\n",
    "Могу лишь предположить, что новая механика заставляет пользователей тратить больше денег либо путём покупки более дорогих товаров, либо путём покупки большего их количества."
   ],
   "metadata": {
    "collapsed": false,
    "pycharm": {
     "name": "#%% md\n"
    }
   }
  },
  {
   "cell_type": "code",
   "execution_count": 33,
   "outputs": [],
   "source": [],
   "metadata": {
    "collapsed": false,
    "pycharm": {
     "name": "#%%\n"
    }
   }
  },
  {
   "cell_type": "code",
   "execution_count": 33,
   "outputs": [],
   "source": [],
   "metadata": {
    "collapsed": false,
    "pycharm": {
     "name": "#%%\n"
    }
   }
  },
  {
   "cell_type": "code",
   "execution_count": 33,
   "outputs": [],
   "source": [],
   "metadata": {
    "collapsed": false,
    "pycharm": {
     "name": "#%%\n"
    }
   }
  },
  {
   "cell_type": "markdown",
   "source": [
    "## Задание 2. SQL"
   ],
   "metadata": {
    "collapsed": false,
    "pycharm": {
     "name": "#%% md\n"
    }
   }
  },
  {
   "cell_type": "markdown",
   "source": [
    "2.1 Очень усердные ученики.\n",
    "\n",
    "2.1.1 Условие\n",
    "\n",
    "Образовательные курсы состоят из различных уроков, каждый из которых состоит из нескольких маленьких заданий. Каждое такое маленькое задание называется \"горошиной\".\n",
    "\n",
    "Назовём очень усердным учеником того пользователя, который хотя бы раз за текущий месяц правильно решил 20 горошин."
   ],
   "metadata": {
    "collapsed": false,
    "pycharm": {
     "name": "#%% md\n"
    }
   }
  },
  {
   "cell_type": "markdown",
   "source": [
    "2.1.2 Задача\n",
    "\n",
    "Дана таблица peas.\n",
    "\n",
    "Необходимо написать оптимальный запрос, который даст информацию о количестве очень усердных студентов за март 2020 года.\n",
    "\n",
    "NB! Под усердным студентом мы понимаем студента, который правильно решил 20 задач за текущий месяц."
   ],
   "metadata": {
    "collapsed": false,
    "pycharm": {
     "name": "#%% md\n"
    }
   }
  },
  {
   "cell_type": "code",
   "execution_count": 34,
   "outputs": [
    {
     "data": {
      "text/plain": "\"\\nSELECT\\n    COUNT (*)\\nFROM\\n    (\\n    SELECT\\n        SUM(correct) AS correct_number\\n    FROM default.peas\\n    WHERE timest BETWEEN '2020-03-01' AND '2020-03-31'\\n    GROUP BY st_id\\n    )\\nWHERE correct_number >= 20\\n\""
     },
     "execution_count": 34,
     "metadata": {},
     "output_type": "execute_result"
    }
   ],
   "source": [
    "'''\n",
    "SELECT\n",
    "    COUNT (*)\n",
    "FROM\n",
    "    (\n",
    "    SELECT\n",
    "        SUM(correct) AS correct_number\n",
    "    FROM default.peas\n",
    "    WHERE timest BETWEEN '2020-03-01' AND '2020-03-31'\n",
    "    GROUP BY st_id\n",
    "    )\n",
    "WHERE correct_number >= 20\n",
    "'''"
   ],
   "metadata": {
    "collapsed": false,
    "pycharm": {
     "name": "#%%\n"
    }
   }
  },
  {
   "cell_type": "code",
   "execution_count": 34,
   "outputs": [],
   "source": [],
   "metadata": {
    "collapsed": false,
    "pycharm": {
     "name": "#%%\n"
    }
   }
  },
  {
   "cell_type": "markdown",
   "source": [
    "2.2 Оптимизация воронки\n",
    "\n",
    "2.2.1 Условие\n",
    "\n",
    "Образовательная платформа предлагает пройти студентам курсы по модели trial: студент может решить бесплатно лишь 30 горошин в день. Для неограниченного количества заданий в определенной дисциплине студенту необходимо приобрести полный доступ. Команда провела эксперимент, где был протестирован новый экран оплаты."
   ],
   "metadata": {
    "collapsed": false,
    "pycharm": {
     "name": "#%% md\n"
    }
   }
  },
  {
   "cell_type": "markdown",
   "source": [
    "2.2.2 Задача\n",
    "\n",
    "Даны таблицы: peas (см. выше), studs и final_project_checks.\n",
    "\n",
    "Необходимо в одном запросе выгрузить следующую информацию о группах пользователей:\n",
    "\n",
    "* ARPU\n",
    "* ARPAU\n",
    "* CR в покупку\n",
    "* СR активного пользователя в покупку\n",
    "* CR пользователя из активности по математике (subject = ’math’) в покупку курса по математике"
   ],
   "metadata": {
    "collapsed": false,
    "pycharm": {
     "name": "#%% md\n"
    }
   }
  },
  {
   "cell_type": "code",
   "execution_count": 35,
   "outputs": [
    {
     "data": {
      "text/plain": "\"\\nSELECT\\n    group,\\n    ROUND(AVG(money), 2) AS ARPU,\\n    ROUND(avgIf(money, activity = 'active'), 2) AS ARPAU,\\n    uniqExactIf(st_id, money > 0) / COUNT(DISTINCT st_id) * 100 AS CR_to_purchase,\\n    uniqExactIf(st_id, money > 0 AND activity = 'active') / uniqExactIf(st_id, activity = 'active') * 100 AS CR_from_active_to_purchase,\\n    uniqExactIf(st_id, subject = 'Math' AND money > 0) / uniqExactIf(st_id, subject = 'Math' OR C.subject = 'Math') * 100 AS CR_from_math_to_purchase\\n\\nFROM\\n(\\n    SELECT AB.st_id, AB.money, AB.subject, AB.group, AB.activity, C.subject\\n    FROM\\n    (\\n        SELECT A.st_id, A.money, A.subject, B.group,\\n            IF(st_id IN (SELECT\\n                            st_id\\n                        FROM default.peas\\n                        GROUP BY st_id\\n                        HAVING SUM(correct) > 3), 'active', 'sleepy') AS activity\\n        FROM\\n            default.final_project_check AS A LEFT JOIN (SELECT\\n                                                        st_id,\\n                                                        IF(length(groupArray(test_grp)) % 2 = 0, 'new', 'old') AS group\\n                                                    FROM default.studs\\n                                                    GROUP BY st_id) AS B\\n            ON A.st_id = B.st_id\\n    ) AS AB FULL OUTER JOIN default.peas AS C\\n        ON AB.st_id = C.st_id\\n)\\n\\nGROUP BY group\\n\""
     },
     "execution_count": 35,
     "metadata": {},
     "output_type": "execute_result"
    }
   ],
   "source": [
    "# Касательно таблицы studs: т.к. там одному пользователю было присвоено множество меток одновременно (new и old), мне непонятно, как использовать такие данные.\n",
    "# Я пошёл на условность, и определил группу каждого пользователя в зависимости от длинны массива, который состоит из меток (напр., new, new, new, old, old).\n",
    "# Если кол-во меток в массиве - чётное число, то пользователь принадлежит группе new, иначе - группе old. Строка 36.\n",
    "\n",
    "# По ARPAU (Average Revenue per Active User). Под активным пользователем я считал того, у кого есть хотя бы три правильно решённые горошины за всё время. Опять-таки условность.\n",
    "# Потому что не оговаривается явно, кого считать за активного.\n",
    "\n",
    "# Общий комментарий: из-за некоторой спутанности в данных и их непрезентабельности (например, в данных всего 30 уникальных пользователей, и конверсия в 100%) возможны ошибки в запросе.\n",
    "# Бывает сложно представить, что выдаст данный запрос на более полных и массивных данных. Однако, надеюсь, общий смысл я уловил.\n",
    "# При необходимости готов пояснить логику построения этого запроса.\n",
    "\n",
    "\n",
    "'''\n",
    "SELECT\n",
    "    group,\n",
    "    ROUND(AVG(money), 2) AS ARPU,\n",
    "    ROUND(avgIf(money, activity = 'active'), 2) AS ARPAU,\n",
    "    uniqExactIf(st_id, money > 0) / COUNT(DISTINCT st_id) * 100 AS CR_to_purchase,\n",
    "    uniqExactIf(st_id, money > 0 AND activity = 'active') / uniqExactIf(st_id, activity = 'active') * 100 AS CR_from_active_to_purchase,\n",
    "    uniqExactIf(st_id, subject = 'Math' AND money > 0) / uniqExactIf(st_id, subject = 'Math' OR C.subject = 'Math') * 100 AS CR_from_math_to_purchase\n",
    "\n",
    "FROM\n",
    "(\n",
    "    SELECT AB.st_id, AB.money, AB.subject, AB.group, AB.activity, C.subject\n",
    "    FROM\n",
    "    (\n",
    "        SELECT A.st_id, A.money, A.subject, B.group,\n",
    "            IF(st_id IN (SELECT\n",
    "                            st_id\n",
    "                        FROM default.peas\n",
    "                        GROUP BY st_id\n",
    "                        HAVING SUM(correct) > 3), 'active', 'sleepy') AS activity\n",
    "        FROM\n",
    "            default.final_project_check AS A LEFT JOIN (SELECT\n",
    "                                                        st_id,\n",
    "                                                        IF(length(groupArray(test_grp)) % 2 = 0, 'new', 'old') AS group\n",
    "                                                    FROM default.studs\n",
    "                                                    GROUP BY st_id) AS B\n",
    "            ON A.st_id = B.st_id\n",
    "    ) AS AB FULL OUTER JOIN default.peas AS C\n",
    "        ON AB.st_id = C.st_id\n",
    ")\n",
    "\n",
    "GROUP BY group\n",
    "'''"
   ],
   "metadata": {
    "collapsed": false,
    "pycharm": {
     "name": "#%%\n"
    }
   }
  },
  {
   "cell_type": "code",
   "execution_count": 35,
   "outputs": [],
   "source": [],
   "metadata": {
    "collapsed": false,
    "pycharm": {
     "name": "#%%\n"
    }
   }
  },
  {
   "cell_type": "code",
   "execution_count": 35,
   "outputs": [],
   "source": [],
   "metadata": {
    "collapsed": false,
    "pycharm": {
     "name": "#%%\n"
    }
   }
  },
  {
   "cell_type": "code",
   "execution_count": 35,
   "outputs": [],
   "source": [],
   "metadata": {
    "collapsed": false,
    "pycharm": {
     "name": "#%%\n"
    }
   }
  },
  {
   "cell_type": "markdown",
   "source": [
    "# Задание 3. Python"
   ],
   "metadata": {
    "collapsed": false,
    "pycharm": {
     "name": "#%% md\n"
    }
   }
  },
  {
   "cell_type": "markdown",
   "source": [
    "3.1 Задача\n",
    "\n",
    "1. Реализуйте функцию, которая будет автоматически подгружать информацию из дополнительного файла groups_add.csv (заголовки могут отличаться) и на основании дополнительных параметров пересчитывать метрики."
   ],
   "metadata": {
    "collapsed": false,
    "pycharm": {
     "name": "#%% md\n"
    }
   }
  },
  {
   "cell_type": "code",
   "execution_count": 36,
   "outputs": [],
   "source": [
    "# Чтобы симулировать реальное добавление файла, вернём нашу переменную groups к состоянию, когда нам прислали только один файл.\n",
    "\n",
    "groups = pd.read_csv('Проект_2_groups.csv', sep=';')"
   ],
   "metadata": {
    "collapsed": false,
    "pycharm": {
     "name": "#%%\n"
    }
   }
  },
  {
   "cell_type": "code",
   "execution_count": 37,
   "outputs": [
    {
     "data": {
      "text/plain": "(74484, 2)"
     },
     "execution_count": 37,
     "metadata": {},
     "output_type": "execute_result"
    }
   ],
   "source": [
    "groups.shape"
   ],
   "metadata": {
    "collapsed": false,
    "pycharm": {
     "name": "#%%\n"
    }
   }
  },
  {
   "cell_type": "code",
   "execution_count": 38,
   "outputs": [],
   "source": [
    "# Здесь вводим название того файла, который мы хотим добавить.\n",
    "\n",
    "additional_info = 'Проект_2_group_add.csv'"
   ],
   "metadata": {
    "collapsed": false,
    "pycharm": {
     "name": "#%%\n"
    }
   }
  },
  {
   "cell_type": "code",
   "execution_count": 39,
   "outputs": [],
   "source": [
    "def show_updated_result(add_file=additional_info,\n",
    "                        sep=',',\n",
    "                        base_file=groups,\n",
    "                        active_users=active_users,\n",
    "                        checks=checks):\n",
    "        '''\n",
    "        Данная функция возвращает два датафрейма: один по конверсии в покупку, второй - по ARPPU.\n",
    "\n",
    "        :параметр add_file: название .csv файла, в котором содержится доп. информация по пользователям (по умолчанию хранится в переменной additional_info).\n",
    "        :параметр sep: разделитель в дополнительном .csv файле (по умолчанию ',').\n",
    "        :параметр base_file: базовый датафрейм с уже имеющимися пользователями (по умолчанию groups).\n",
    "        :параметр active_users: датафрейм с информацией по пользователям, которые зашли на платформу во время эксперимента (по умолчанию active_users).\n",
    "        :параметр checks: датафрейм по платежам пользователей, которые зашли на платформу во время эксперимента (по умолчанию checks).\n",
    "        '''\n",
    "\n",
    "        file = pd.read_csv(add_file, sep=sep)\n",
    "        concatenated_file = pd.concat([base_file, file])\n",
    "\n",
    "        active_users_groups = active_users.merge(concatenated_file, how='left', on='id')\n",
    "        active_checks = active_users_groups.merge(checks, how='left', on='id')\n",
    "\n",
    "        conversion_df = active_checks.copy()\n",
    "        conversion_df.rev = conversion_df.rev.fillna(0)\n",
    "        conversion_df.loc[conversion_df.rev > 0, 'rev'] = 1\n",
    "\n",
    "        CR_df = conversion_df \\\n",
    "                .groupby('grp') \\\n",
    "                .agg({'rev': 'mean'}) \\\n",
    "                .mul(100) \\\n",
    "                .rename(columns={'rev': 'CR_%'})\n",
    "\n",
    "        ARPPU_df = active_checks \\\n",
    "                .groupby('grp') \\\n",
    "                .agg({'rev': 'mean'}) \\\n",
    "                .rename(columns={'rev': 'ARPPU'})\n",
    "\n",
    "        return {'CR': CR_df, 'ARPPU': ARPPU_df}"
   ],
   "metadata": {
    "collapsed": false,
    "pycharm": {
     "name": "#%%\n"
    }
   }
  },
  {
   "cell_type": "code",
   "execution_count": 40,
   "outputs": [
    {
     "data": {
      "text/plain": "         CR_%\ngrp          \nA    5.071521\nB    4.615611",
      "text/html": "<div>\n<style scoped>\n    .dataframe tbody tr th:only-of-type {\n        vertical-align: middle;\n    }\n\n    .dataframe tbody tr th {\n        vertical-align: top;\n    }\n\n    .dataframe thead th {\n        text-align: right;\n    }\n</style>\n<table border=\"1\" class=\"dataframe\">\n  <thead>\n    <tr style=\"text-align: right;\">\n      <th></th>\n      <th>CR_%</th>\n    </tr>\n    <tr>\n      <th>grp</th>\n      <th></th>\n    </tr>\n  </thead>\n  <tbody>\n    <tr>\n      <th>A</th>\n      <td>5.071521</td>\n    </tr>\n    <tr>\n      <th>B</th>\n      <td>4.615611</td>\n    </tr>\n  </tbody>\n</table>\n</div>"
     },
     "execution_count": 40,
     "metadata": {},
     "output_type": "execute_result"
    }
   ],
   "source": [
    "show_updated_result()['CR']"
   ],
   "metadata": {
    "collapsed": false,
    "pycharm": {
     "name": "#%%\n"
    }
   }
  },
  {
   "cell_type": "code",
   "execution_count": 41,
   "outputs": [
    {
     "data": {
      "text/plain": "           ARPPU\ngrp             \nA     933.589744\nB    1257.878992",
      "text/html": "<div>\n<style scoped>\n    .dataframe tbody tr th:only-of-type {\n        vertical-align: middle;\n    }\n\n    .dataframe tbody tr th {\n        vertical-align: top;\n    }\n\n    .dataframe thead th {\n        text-align: right;\n    }\n</style>\n<table border=\"1\" class=\"dataframe\">\n  <thead>\n    <tr style=\"text-align: right;\">\n      <th></th>\n      <th>ARPPU</th>\n    </tr>\n    <tr>\n      <th>grp</th>\n      <th></th>\n    </tr>\n  </thead>\n  <tbody>\n    <tr>\n      <th>A</th>\n      <td>933.589744</td>\n    </tr>\n    <tr>\n      <th>B</th>\n      <td>1257.878992</td>\n    </tr>\n  </tbody>\n</table>\n</div>"
     },
     "execution_count": 41,
     "metadata": {},
     "output_type": "execute_result"
    }
   ],
   "source": [
    "show_updated_result()['ARPPU']"
   ],
   "metadata": {
    "collapsed": false,
    "pycharm": {
     "name": "#%%\n"
    }
   }
  },
  {
   "cell_type": "code",
   "execution_count": 41,
   "outputs": [],
   "source": [],
   "metadata": {
    "collapsed": false,
    "pycharm": {
     "name": "#%%\n"
    }
   }
  },
  {
   "cell_type": "code",
   "execution_count": 41,
   "outputs": [],
   "source": [],
   "metadata": {
    "collapsed": false,
    "pycharm": {
     "name": "#%%\n"
    }
   }
  },
  {
   "cell_type": "markdown",
   "source": [
    "2. Реализуйте функцию, которая будет строить графики по получаемым метрикам."
   ],
   "metadata": {
    "collapsed": false,
    "pycharm": {
     "name": "#%% md\n"
    }
   }
  },
  {
   "cell_type": "code",
   "execution_count": 42,
   "outputs": [],
   "source": [
    "def visualize_updated_result(CR_data=show_updated_result()['CR'],\n",
    "                             ARPPU_data=show_updated_result()['ARPPU']):\n",
    "        '''\n",
    "        :параметр CR_data: датафрейм с конверсией (по умолчанию show_updated_result(additional_info)['CR']).\n",
    "        :параметр ARPPU_data: датафрейм с метрикой ARPPU (по умолчанию show_updated_result(additional_info)['ARPPU']).\n",
    "        :функция возвращает два барплота этих метрик.\n",
    "        '''\n",
    "\n",
    "        fig, axs = plt.subplots(ncols=2)\n",
    "        fig.tight_layout(pad=5)\n",
    "\n",
    "        sns.set(rc={'figure.figsize': (10, 5)})\n",
    "        ax = sns.barplot(data=CR_data.reset_index(),\n",
    "                         x='grp',\n",
    "                         y='CR_%',\n",
    "                         palette='rocket',\n",
    "                         ax=axs[0])\n",
    "        ax.set_title('Conversion\\n', fontsize=20)\n",
    "        ax.set_xlabel('\\nGroup', fontsize=14)\n",
    "        ax.set_ylabel('Conversion, %', fontsize=14)\n",
    "\n",
    "        ay = sns.barplot(data=ARPPU_data.reset_index(),\n",
    "                         x='grp',\n",
    "                         y='ARPPU',\n",
    "                         palette='mako',\n",
    "                         ax=axs[1])\n",
    "        ay.set_title('ARPPU\\n', fontsize=20)\n",
    "        ay.set_xlabel('\\nGroup', fontsize=14)\n",
    "        ay.set_ylabel('Roubles', fontsize=14)\n",
    "\n",
    "        sns.despine()"
   ],
   "metadata": {
    "collapsed": false,
    "pycharm": {
     "name": "#%%\n"
    }
   }
  },
  {
   "cell_type": "code",
   "execution_count": 43,
   "outputs": [
    {
     "data": {
      "text/plain": "<Figure size 432x288 with 2 Axes>",
      "image/png": "[encoded data removed]"
     },
     "metadata": {},
     "output_type": "display_data"
    }
   ],
   "source": [
    "visualize_updated_result()"
   ],
   "metadata": {
    "collapsed": false,
    "pycharm": {
     "name": "#%%\n"
    }
   }
  }
 ],
 "metadata": {
  "kernelspec": {
   "display_name": "Python 3",
   "language": "python",
   "name": "python3"
  },
  "language_info": {
   "codemirror_mode": {
    "name": "ipython",
    "version": 2
   },
   "file_extension": ".py",
   "mimetype": "text/x-python",
   "name": "python",
   "nbconvert_exporter": "python",
   "pygments_lexer": "ipython2",
   "version": "2.7.6"
  }
 },
 "nbformat": 4,
 "nbformat_minor": 0
}